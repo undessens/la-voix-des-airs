{
 "cells": [
  {
   "cell_type": "code",
   "execution_count": 14,
   "metadata": {
    "scrolled": false
   },
   "outputs": [],
   "source": [
    "import serial\n",
    "\n",
    "port = \"/dev/cu.usbmodem1441\"\n",
    "brate = 38400\n",
    "ser = serial.Serial(port, brate, timeout=0)\n",
    "ser.flushInput()\n",
    "\n",
    "   \n"
   ]
  },
  {
   "cell_type": "code",
   "execution_count": 13,
   "metadata": {},
   "outputs": [
    {
     "data": {
      "text/plain": [
       "[None, None, None, None, None, None, None]"
      ]
     },
     "execution_count": 13,
     "metadata": {},
     "output_type": "execute_result"
    }
   ],
   "source": [
    "[client.send_message(\"/debug\", ord(c)) for c in \" fablab\"]"
   ]
  },
  {
   "cell_type": "code",
   "execution_count": 1,
   "metadata": {},
   "outputs": [
    {
     "name": "stdout",
     "output_type": "stream",
     "text": [
      "Sending to  192.168.11.107 on port 12345\n"
     ]
    }
   ],
   "source": [
    "from pythonosc.udp_client import SimpleUDPClient\n",
    "import time\n",
    "\n",
    "ip = \"192.168.11.105\" # coco\n",
    "ip = \"192.168.11.104\" # MOI\n",
    "ip = \"192.168.11.107\" \n",
    "\n",
    "port = 12345\n",
    "\n",
    "client = SimpleUDPClient(ip, port)  # Create client\n",
    "\n",
    "\n",
    "print(\"Sending to \", ip, \"on port\", port )  \n",
    "client.send_message(\"/debug\", \"a\")"
   ]
  },
  {
   "cell_type": "code",
   "execution_count": 12,
   "metadata": {},
   "outputs": [
    {
     "name": "stdout",
     "output_type": "stream",
     "text": [
      "Sending to  192.168.11.107 on port 12345\n"
     ]
    }
   ],
   "source": [
    "print(\"Sending to \", ip, \"on port\", port )  \n",
    "client.send_message(\"/debug\", 97)"
   ]
  }
 ],
 "metadata": {
  "kernelspec": {
   "display_name": "Python 3",
   "language": "python",
   "name": "python3"
  },
  "language_info": {
   "codemirror_mode": {
    "name": "ipython",
    "version": 3
   },
   "file_extension": ".py",
   "mimetype": "text/x-python",
   "name": "python",
   "nbconvert_exporter": "python",
   "pygments_lexer": "ipython3",
   "version": "3.7.4"
  }
 },
 "nbformat": 4,
 "nbformat_minor": 2
}
